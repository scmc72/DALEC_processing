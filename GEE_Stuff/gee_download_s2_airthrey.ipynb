{
 "cells": [
  {
   "cell_type": "code",
   "execution_count": 1,
   "id": "f994ca20",
   "metadata": {},
   "outputs": [],
   "source": [
    "import ee\n",
    "import geetools"
   ]
  },
  {
   "cell_type": "code",
   "execution_count": 2,
   "id": "034faf75",
   "metadata": {},
   "outputs": [],
   "source": [
    "# Trigger the authentication flow.\n",
    "ee.Authenticate()\n",
    "ee.Initialize()\n"
   ]
  },
  {
   "cell_type": "code",
   "execution_count": 3,
   "id": "9f2eaf64",
   "metadata": {},
   "outputs": [],
   "source": [
    "S2collection = ee.ImageCollection('COPERNICUS/S2_HARMONIZED')"
   ]
  },
  {
   "cell_type": "code",
   "execution_count": 4,
   "id": "2be8dd15",
   "metadata": {},
   "outputs": [
    {
     "data": {
      "text/plain": [
       "<ee.imagecollection.ImageCollection at 0x11ed77830>"
      ]
     },
     "execution_count": 4,
     "metadata": {},
     "output_type": "execute_result"
    }
   ],
   "source": [
    "S2collection"
   ]
  },
  {
   "cell_type": "code",
   "execution_count": 5,
   "id": "97e0cf08",
   "metadata": {},
   "outputs": [],
   "source": [
    "start_date = '2022-02-01'\n",
    "end_date = '2023-10-31'"
   ]
  },
  {
   "cell_type": "code",
   "execution_count": 6,
   "id": "299a1410",
   "metadata": {},
   "outputs": [],
   "source": [
    "def maskS2clouds(image):\n",
    "    qa = image.select('QA60')\n",
    "\n",
    "#    Bits 10 and 11 are clouds and cirrus, respectively.\n",
    "    cloudBitMask = 1 << 10\n",
    "    cirrusBitMask = 1 << 11\n",
    "\n",
    "# Both flags should be set to zero, indicating clear conditions.\n",
    "    mask = qa.bitwiseAnd(cloudBitMask).eq(0) and qa.bitwiseAnd(cirrusBitMask).eq(0)\n",
    "\n",
    "    return image.updateMask(mask).divide(10000)"
   ]
  },
  {
   "cell_type": "code",
   "execution_count": 54,
   "id": "f79fe78c",
   "metadata": {},
   "outputs": [],
   "source": [
    "poi = ee.Geometry.Point(-3.920372, 56.147340) # centre of airthrey loch"
   ]
  },
  {
   "cell_type": "code",
   "execution_count": 58,
   "id": "34c8aef7",
   "metadata": {},
   "outputs": [],
   "source": [
    "minimumLon = -3.925116\n",
    "minimumLat = 56.144342\n",
    "maximumLon = -3.912912\n",
    "maximumLat = 56.148563\n",
    "roi = ee.Geometry.Rectangle(minimumLon, minimumLat, maximumLon, maximumLat)"
   ]
  },
  {
   "cell_type": "code",
   "execution_count": 59,
   "id": "3f5ac04f",
   "metadata": {},
   "outputs": [],
   "source": [
    "S2_airth = S2collection.filterDate(start_date, end_date).filterBounds(roi)#.map(maskS2clouds)"
   ]
  },
  {
   "cell_type": "code",
   "execution_count": 62,
   "id": "4c79e8ce",
   "metadata": {},
   "outputs": [],
   "source": [
    "nimg = S2_airth.toList(S2_airth.size().getInfo()).size().getInfo()            \n",
    "                                  \n",
    "for i in range(nimg):\n",
    "    img = ee.Image(S2_airth.toList(nimg).get(i))\n",
    "#     date = img.date().format('yyyy-MM-dd').getInfo()\n",
    "    index = img.get('system:index').getInfo()\n",
    "\n",
    "    task = ee.batch.Export.image.toDrive(img.toFloat(), \n",
    "                                          folder='GEE_Images_S2_NEWWWWW',\n",
    "                                          description=index,\n",
    "                                          fileNamePrefix= index,\n",
    "                                          region = roi,\n",
    "                                          scale=10,\n",
    "                                          #dimensions = (256,256), \n",
    "                                          # fileFormat = 'TFRecord',\n",
    "                                          maxPixels = 1e10)\n",
    "    task.start()\n"
   ]
  },
  {
   "cell_type": "code",
   "execution_count": null,
   "id": "a9662560",
   "metadata": {},
   "outputs": [],
   "source": [
    "# this is working, but I'm not able to run these through acolite processing\n",
    "# wonder if the file format is slightly off, or maybe there is some metadata missing?\n",
    "# wonder if I really need the toFloat() thingy?"
   ]
  }
 ],
 "metadata": {
  "kernelspec": {
   "display_name": "GEE",
   "language": "python",
   "name": "gee"
  },
  "language_info": {
   "codemirror_mode": {
    "name": "ipython",
    "version": 3
   },
   "file_extension": ".py",
   "mimetype": "text/x-python",
   "name": "python",
   "nbconvert_exporter": "python",
   "pygments_lexer": "ipython3",
   "version": "3.12.2"
  }
 },
 "nbformat": 4,
 "nbformat_minor": 5
}
