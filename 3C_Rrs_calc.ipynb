{
 "cells": [
  {
   "cell_type": "markdown",
   "id": "cd96c9e9",
   "metadata": {},
   "source": [
    "# 3C Rrs Calculation"
   ]
  },
  {
   "cell_type": "code",
   "execution_count": 5,
   "id": "e6a0250b",
   "metadata": {},
   "outputs": [
    {
     "ename": "ModuleNotFoundError",
     "evalue": "No module named 'theano'",
     "output_type": "error",
     "traceback": [
      "\u001b[0;31m---------------------------------------------------------------------------\u001b[0m",
      "\u001b[0;31mModuleNotFoundError\u001b[0m                       Traceback (most recent call last)",
      "\u001b[0;32m/tmp/ipykernel_484314/1190653574.py\u001b[0m in \u001b[0;36m<module>\u001b[0;34m\u001b[0m\n\u001b[1;32m     19\u001b[0m \u001b[0;32mfrom\u001b[0m \u001b[0mscipy\u001b[0m\u001b[0;34m.\u001b[0m\u001b[0msignal\u001b[0m \u001b[0;32mimport\u001b[0m \u001b[0msavgol_filter\u001b[0m\u001b[0;34m\u001b[0m\u001b[0;34m\u001b[0m\u001b[0m\n\u001b[1;32m     20\u001b[0m \u001b[0;34m\u001b[0m\u001b[0m\n\u001b[0;32m---> 21\u001b[0;31m \u001b[0;32mfrom\u001b[0m \u001b[0mrrs_model_3C\u001b[0m \u001b[0;32mimport\u001b[0m \u001b[0mrrs_model_3C\u001b[0m\u001b[0;34m\u001b[0m\u001b[0;34m\u001b[0m\u001b[0m\n\u001b[0m",
      "\u001b[0;32m~/Documents/StirlingUni/Project/DALEC_processing/rrs_model_3C-master/rrs_model_3C.py\u001b[0m in \u001b[0;36m<module>\u001b[0;34m\u001b[0m\n\u001b[1;32m     16\u001b[0m \u001b[0;32mimport\u001b[0m \u001b[0mseaborn\u001b[0m \u001b[0;32mas\u001b[0m \u001b[0msb\u001b[0m\u001b[0;34m\u001b[0m\u001b[0;34m\u001b[0m\u001b[0m\n\u001b[1;32m     17\u001b[0m \u001b[0;34m\u001b[0m\u001b[0m\n\u001b[0;32m---> 18\u001b[0;31m \u001b[0;32mimport\u001b[0m \u001b[0mtheano\u001b[0m \u001b[0;32mas\u001b[0m \u001b[0mth\u001b[0m\u001b[0;34m\u001b[0m\u001b[0;34m\u001b[0m\u001b[0m\n\u001b[0m\u001b[1;32m     19\u001b[0m \u001b[0;32mimport\u001b[0m \u001b[0mtheano\u001b[0m\u001b[0;34m.\u001b[0m\u001b[0mtensor\u001b[0m \u001b[0;32mas\u001b[0m \u001b[0mT\u001b[0m\u001b[0;34m\u001b[0m\u001b[0;34m\u001b[0m\u001b[0m\n\u001b[1;32m     20\u001b[0m \u001b[0;32mfrom\u001b[0m \u001b[0mtheano\u001b[0m\u001b[0;34m.\u001b[0m\u001b[0mifelse\u001b[0m \u001b[0;32mimport\u001b[0m \u001b[0mifelse\u001b[0m\u001b[0;34m\u001b[0m\u001b[0;34m\u001b[0m\u001b[0m\n",
      "\u001b[0;31mModuleNotFoundError\u001b[0m: No module named 'theano'"
     ]
    }
   ],
   "source": [
    "import os\n",
    "import sys\n",
    "lib_path = os.path.abspath(os.path.join(os.path.abspath(''), 'functions/'))\n",
    "sys.path.append(lib_path)\n",
    "lib_path = os.path.abspath(os.path.join(os.path.abspath(''), 'rrs_model_3C-master/'))\n",
    "sys.path.append(lib_path)\n",
    "# need to append our functions dir to the path! \n",
    "import dalecLoad as dl\n",
    "\n",
    "import pandas as pd\n",
    "import numpy as np\n",
    "import statistics\n",
    "import matplotlib.pyplot as plt\n",
    "import spectralConv\n",
    "import seaborn as sns\n",
    "\n",
    "import datetime\n",
    "\n",
    "from scipy.signal import savgol_filter\n",
    "\n",
    "from rrs_model_3C import rrs_model_3C"
   ]
  },
  {
   "cell_type": "code",
   "execution_count": 2,
   "id": "02d060bd",
   "metadata": {},
   "outputs": [
    {
     "name": "stdout",
     "output_type": "stream",
     "text": [
      "loading ... data/logs_81_84/LOG_0084.dtf\n",
      "WARNING: some of my old code wont work with integerIndex=True - delete this line once this is sorted\n"
     ]
    }
   ],
   "source": [
    "log = dl.load_DALEC_dir('data/logs_81_84/', file_names=['LOG_0084.dtf'])"
   ]
  },
  {
   "cell_type": "code",
   "execution_count": 3,
   "id": "51ba03fd",
   "metadata": {},
   "outputs": [],
   "source": [
    "log_re = dl.resampleMultiLog(log, freq='5min')"
   ]
  },
  {
   "cell_type": "code",
   "execution_count": 4,
   "id": "23ff8d16",
   "metadata": {},
   "outputs": [
    {
     "data": {
      "text/html": [
       "<div>\n",
       "<style scoped>\n",
       "    .dataframe tbody tr th:only-of-type {\n",
       "        vertical-align: middle;\n",
       "    }\n",
       "\n",
       "    .dataframe tbody tr th {\n",
       "        vertical-align: top;\n",
       "    }\n",
       "\n",
       "    .dataframe thead th {\n",
       "        text-align: right;\n",
       "    }\n",
       "</style>\n",
       "<table border=\"1\" class=\"dataframe\">\n",
       "  <thead>\n",
       "    <tr style=\"text-align: right;\">\n",
       "      <th></th>\n",
       "      <th></th>\n",
       "      <th></th>\n",
       "      <th>Saturation Flag</th>\n",
       "      <th>Spectral Magnitude</th>\n",
       "    </tr>\n",
       "    <tr>\n",
       "      <th>Channel</th>\n",
       "      <th>spectral_ind</th>\n",
       "      <th>Datetime</th>\n",
       "      <th></th>\n",
       "      <th></th>\n",
       "    </tr>\n",
       "  </thead>\n",
       "  <tbody>\n",
       "    <tr>\n",
       "      <th rowspan=\"5\" valign=\"top\">Ed</th>\n",
       "      <th rowspan=\"5\" valign=\"top\">21</th>\n",
       "      <th>2022-08-10 10:00:00</th>\n",
       "      <td>0.0</td>\n",
       "      <td>0.394465</td>\n",
       "    </tr>\n",
       "    <tr>\n",
       "      <th>2022-08-10 10:05:00</th>\n",
       "      <td>0.0</td>\n",
       "      <td>0.402185</td>\n",
       "    </tr>\n",
       "    <tr>\n",
       "      <th>2022-08-10 10:10:00</th>\n",
       "      <td>0.0</td>\n",
       "      <td>0.409287</td>\n",
       "    </tr>\n",
       "    <tr>\n",
       "      <th>2022-08-10 10:15:00</th>\n",
       "      <td>0.0</td>\n",
       "      <td>0.412743</td>\n",
       "    </tr>\n",
       "    <tr>\n",
       "      <th>2022-08-10 10:20:00</th>\n",
       "      <td>0.0</td>\n",
       "      <td>0.411384</td>\n",
       "    </tr>\n",
       "    <tr>\n",
       "      <th>...</th>\n",
       "      <th>...</th>\n",
       "      <th>...</th>\n",
       "      <td>...</td>\n",
       "      <td>...</td>\n",
       "    </tr>\n",
       "    <tr>\n",
       "      <th rowspan=\"5\" valign=\"top\">Lu</th>\n",
       "      <th rowspan=\"5\" valign=\"top\">220</th>\n",
       "      <th>2022-08-10 13:35:00</th>\n",
       "      <td>0.0</td>\n",
       "      <td>0.000364</td>\n",
       "    </tr>\n",
       "    <tr>\n",
       "      <th>2022-08-10 13:40:00</th>\n",
       "      <td>0.0</td>\n",
       "      <td>0.000337</td>\n",
       "    </tr>\n",
       "    <tr>\n",
       "      <th>2022-08-10 13:45:00</th>\n",
       "      <td>0.0</td>\n",
       "      <td>0.000329</td>\n",
       "    </tr>\n",
       "    <tr>\n",
       "      <th>2022-08-10 13:50:00</th>\n",
       "      <td>0.0</td>\n",
       "      <td>0.000343</td>\n",
       "    </tr>\n",
       "    <tr>\n",
       "      <th>2022-08-10 13:55:00</th>\n",
       "      <td>0.0</td>\n",
       "      <td>0.000340</td>\n",
       "    </tr>\n",
       "  </tbody>\n",
       "</table>\n",
       "<p>28800 rows × 2 columns</p>\n",
       "</div>"
      ],
      "text/plain": [
       "                                          Saturation Flag  Spectral Magnitude\n",
       "Channel spectral_ind Datetime                                                \n",
       "Ed      21           2022-08-10 10:00:00              0.0            0.394465\n",
       "                     2022-08-10 10:05:00              0.0            0.402185\n",
       "                     2022-08-10 10:10:00              0.0            0.409287\n",
       "                     2022-08-10 10:15:00              0.0            0.412743\n",
       "                     2022-08-10 10:20:00              0.0            0.411384\n",
       "...                                                   ...                 ...\n",
       "Lu      220          2022-08-10 13:35:00              0.0            0.000364\n",
       "                     2022-08-10 13:40:00              0.0            0.000337\n",
       "                     2022-08-10 13:45:00              0.0            0.000329\n",
       "                     2022-08-10 13:50:00              0.0            0.000343\n",
       "                     2022-08-10 13:55:00              0.0            0.000340\n",
       "\n",
       "[28800 rows x 2 columns]"
      ]
     },
     "execution_count": 4,
     "metadata": {},
     "output_type": "execute_result"
    }
   ],
   "source": [
    "log_re"
   ]
  },
  {
   "cell_type": "code",
   "execution_count": null,
   "id": "5d177198",
   "metadata": {},
   "outputs": [],
   "source": []
  }
 ],
 "metadata": {
  "kernelspec": {
   "display_name": "Python 3 (ipykernel)",
   "language": "python",
   "name": "python3"
  },
  "language_info": {
   "codemirror_mode": {
    "name": "ipython",
    "version": 3
   },
   "file_extension": ".py",
   "mimetype": "text/x-python",
   "name": "python",
   "nbconvert_exporter": "python",
   "pygments_lexer": "ipython3",
   "version": "3.9.7"
  }
 },
 "nbformat": 4,
 "nbformat_minor": 5
}
